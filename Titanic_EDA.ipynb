{
 "cells": [
  {
   "cell_type": "markdown",
   "id": "e5b6c0da",
   "metadata": {},
   "source": [
    "# 🛳️ Titanic Dataset - EDA\n",
    "\n",
    "In this notebook, we will perform exploratory data analysis (EDA) and data cleaning on the Titanic dataset."
   ]
  },
  {
   "cell_type": "code",
   "execution_count": null,
   "id": "9cd73af8",
   "metadata": {},
   "outputs": [],
   "source": [
    "import pandas as pd\n",
    "import numpy as np\n",
    "import seaborn as sns\n",
    "import matplotlib.pyplot as plt\n",
    "%matplotlib inline"
   ]
  },
  {
   "cell_type": "code",
   "execution_count": null,
   "id": "ff53e0a2",
   "metadata": {},
   "outputs": [],
   "source": [
    "# Load the dataset\n",
    "df = pd.read_csv('train.csv')\n",
    "df.head()"
   ]
  },
  {
   "cell_type": "markdown",
   "id": "d00cfed0",
   "metadata": {},
   "source": [
    "## 📊 Basic Info and Missing Values"
   ]
  },
  {
   "cell_type": "code",
   "execution_count": null,
   "id": "d5682f8c",
   "metadata": {},
   "outputs": [],
   "source": [
    "df.info()\n",
    "df.isnull().sum()"
   ]
  },
  {
   "cell_type": "markdown",
   "id": "18741e79",
   "metadata": {},
   "source": [
    "## 👶 Handling Missing Values\n",
    "We will fill 'Age' with median and drop 'Cabin' due to too many missing values."
   ]
  },
  {
   "cell_type": "code",
   "execution_count": null,
   "id": "5b83bf77",
   "metadata": {},
   "outputs": [],
   "source": [
    "df['Age'].fillna(df['Age'].median(), inplace=True)\n",
    "df.drop(columns=['Cabin'], inplace=True)\n",
    "df.dropna(inplace=True)  # Drop rows with missing Embarked"
   ]
  },
  {
   "cell_type": "markdown",
   "id": "30e713e4",
   "metadata": {},
   "source": [
    "## 🔍 Univariate Analysis"
   ]
  },
  {
   "cell_type": "code",
   "execution_count": null,
   "id": "1a33a698",
   "metadata": {},
   "outputs": [],
   "source": [
    "sns.countplot(x='Survived', data=df)\n",
    "plt.title('Survival Count')\n",
    "plt.show()"
   ]
  },
  {
   "cell_type": "code",
   "execution_count": null,
   "id": "f058052d",
   "metadata": {},
   "outputs": [],
   "source": [
    "sns.countplot(x='Pclass', data=df)\n",
    "plt.title('Passenger Class Distribution')\n",
    "plt.show()"
   ]
  },
  {
   "cell_type": "code",
   "execution_count": null,
   "id": "e1c7f343",
   "metadata": {},
   "outputs": [],
   "source": [
    "sns.histplot(df['Age'], bins=30, kde=True)\n",
    "plt.title('Age Distribution')\n",
    "plt.show()"
   ]
  },
  {
   "cell_type": "markdown",
   "id": "9a8907b1",
   "metadata": {},
   "source": [
    "## 🧑‍🤝‍🧑 Bivariate Analysis"
   ]
  },
  {
   "cell_type": "code",
   "execution_count": null,
   "id": "e44ab2bd",
   "metadata": {},
   "outputs": [],
   "source": [
    "sns.countplot(x='Sex', hue='Survived', data=df)\n",
    "plt.title('Survival by Gender')\n",
    "plt.show()"
   ]
  },
  {
   "cell_type": "code",
   "execution_count": null,
   "id": "9d91d969",
   "metadata": {},
   "outputs": [],
   "source": [
    "sns.countplot(x='Pclass', hue='Survived', data=df)\n",
    "plt.title('Survival by Class')\n",
    "plt.show()"
   ]
  },
  {
   "cell_type": "code",
   "execution_count": null,
   "id": "afdaaff5",
   "metadata": {},
   "outputs": [],
   "source": [
    "sns.boxplot(x='Survived', y='Age', data=df)\n",
    "plt.title('Age vs Survival')\n",
    "plt.show()"
   ]
  },
  {
   "cell_type": "code",
   "execution_count": null,
   "id": "a2d34786",
   "metadata": {},
   "outputs": [],
   "source": [
    "sns.boxplot(x='Survived', y='Fare', data=df)\n",
    "plt.title('Fare vs Survival')\n",
    "plt.show()"
   ]
  },
  {
   "cell_type": "markdown",
   "id": "e493e8ea",
   "metadata": {},
   "source": [
    "## ✅ Save Cleaned Dataset (Optional)"
   ]
  },
  {
   "cell_type": "code",
   "execution_count": null,
   "id": "c0e11b3e",
   "metadata": {},
   "outputs": [],
   "source": [
    "df.to_csv('titanic_cleaned.csv', index=False)"
   ]
  }
 ],
 "metadata": {},
 "nbformat": 4,
 "nbformat_minor": 5
}